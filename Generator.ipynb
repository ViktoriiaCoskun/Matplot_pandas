{
 "cells": [
  {
   "cell_type": "code",
   "execution_count": null,
   "id": "bef5e6cd-3cd3-40cb-bf30-ba0ea2e4a6e9",
   "metadata": {},
   "outputs": [],
   "source": [
    "def number_generator(n): \n",
    "    for i in range(1,n+1):\n",
    "        yield i\n",
    "n=10\n",
    "total=0\n",
    "for number in number_generator(n): \n",
    "    total=total+number\n",
    "    \n",
    "print(\"Sum = \",total)"
   ]
  }
 ],
 "metadata": {
  "kernelspec": {
   "display_name": "Python 3 (ipykernel)",
   "language": "python",
   "name": "python3"
  },
  "language_info": {
   "codemirror_mode": {
    "name": "ipython",
    "version": 3
   },
   "file_extension": ".py",
   "mimetype": "text/x-python",
   "name": "python",
   "nbconvert_exporter": "python",
   "pygments_lexer": "ipython3",
   "version": "3.9.13"
  }
 },
 "nbformat": 4,
 "nbformat_minor": 5
}
